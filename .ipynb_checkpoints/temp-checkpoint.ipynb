{
 "cells": [
  {
   "cell_type": "markdown",
   "metadata": {},
   "source": [
    "# Итоговый проект по PB"
   ]
  },
  {
   "cell_type": "code",
   "execution_count": null,
   "metadata": {},
   "outputs": [],
   "source": []
  },
  {
   "cell_type": "code",
   "execution_count": 2,
   "metadata": {},
   "outputs": [],
   "source": [
    "import numpy as np"
   ]
  },
  {
   "cell_type": "code",
   "execution_count": null,
   "metadata": {},
   "outputs": [],
   "source": [
    "np.add()"
   ]
  },
  {
   "cell_type": "code",
   "execution_count": null,
   "metadata": {},
   "outputs": [],
   "source": []
  },
  {
   "cell_type": "code",
   "execution_count": 6,
   "metadata": {},
   "outputs": [],
   "source": [
    "q = [1, 2, 3, 4, 5, 6, 7, 8, 9, 10]\n",
    "q.append(11)"
   ]
  },
  {
   "cell_type": "code",
   "execution_count": 7,
   "metadata": {},
   "outputs": [
    {
     "data": {
      "text/plain": [
       "[7, 8, 9, 10, 11]"
      ]
     },
     "execution_count": 7,
     "metadata": {},
     "output_type": "execute_result"
    }
   ],
   "source": [
    "q[-5:]"
   ]
  },
  {
   "cell_type": "code",
   "execution_count": 8,
   "metadata": {},
   "outputs": [],
   "source": [
    "example = {'id1':{'L11': 11,\n",
    "                  'L12': 12,\n",
    "                  'L13': 13,\n",
    "                 },\n",
    "           'id2':{'L21': 21,\n",
    "                  'L22': 22,\n",
    "                  'L23': 23,\n",
    "                 }\n",
    "          }"
   ]
  },
  {
   "cell_type": "code",
   "execution_count": 9,
   "metadata": {},
   "outputs": [
    {
     "name": "stdout",
     "output_type": "stream",
     "text": [
      "id1\n",
      "id2\n"
     ]
    }
   ],
   "source": [
    "for n in example:\n",
    "    print(n)"
   ]
  },
  {
   "cell_type": "code",
   "execution_count": 11,
   "metadata": {},
   "outputs": [],
   "source": [
    "import pandas as pd\n"
   ]
  },
  {
   "cell_type": "code",
   "execution_count": 14,
   "metadata": {},
   "outputs": [],
   "source": [
    "df = pd.DataFrame(example).T"
   ]
  },
  {
   "cell_type": "code",
   "execution_count": 15,
   "metadata": {},
   "outputs": [
    {
     "data": {
      "text/html": [
       "<div>\n",
       "<style scoped>\n",
       "    .dataframe tbody tr th:only-of-type {\n",
       "        vertical-align: middle;\n",
       "    }\n",
       "\n",
       "    .dataframe tbody tr th {\n",
       "        vertical-align: top;\n",
       "    }\n",
       "\n",
       "    .dataframe thead th {\n",
       "        text-align: right;\n",
       "    }\n",
       "</style>\n",
       "<table border=\"1\" class=\"dataframe\">\n",
       "  <thead>\n",
       "    <tr style=\"text-align: right;\">\n",
       "      <th></th>\n",
       "      <th>L11</th>\n",
       "      <th>L12</th>\n",
       "      <th>L13</th>\n",
       "      <th>L21</th>\n",
       "      <th>L22</th>\n",
       "      <th>L23</th>\n",
       "    </tr>\n",
       "  </thead>\n",
       "  <tbody>\n",
       "    <tr>\n",
       "      <th>id1</th>\n",
       "      <td>11.0</td>\n",
       "      <td>12.0</td>\n",
       "      <td>13.0</td>\n",
       "      <td>NaN</td>\n",
       "      <td>NaN</td>\n",
       "      <td>NaN</td>\n",
       "    </tr>\n",
       "    <tr>\n",
       "      <th>id2</th>\n",
       "      <td>NaN</td>\n",
       "      <td>NaN</td>\n",
       "      <td>NaN</td>\n",
       "      <td>21.0</td>\n",
       "      <td>22.0</td>\n",
       "      <td>23.0</td>\n",
       "    </tr>\n",
       "  </tbody>\n",
       "</table>\n",
       "</div>"
      ],
      "text/plain": [
       "      L11   L12   L13   L21   L22   L23\n",
       "id1  11.0  12.0  13.0   NaN   NaN   NaN\n",
       "id2   NaN   NaN   NaN  21.0  22.0  23.0"
      ]
     },
     "execution_count": 15,
     "metadata": {},
     "output_type": "execute_result"
    }
   ],
   "source": [
    "df"
   ]
  },
  {
   "cell_type": "code",
   "execution_count": 16,
   "metadata": {},
   "outputs": [],
   "source": [
    "df.to_csv('data.csv', sep=';')"
   ]
  },
  {
   "cell_type": "code",
   "execution_count": null,
   "metadata": {},
   "outputs": [],
   "source": []
  },
  {
   "cell_type": "code",
   "execution_count": null,
   "metadata": {},
   "outputs": [],
   "source": []
  },
  {
   "cell_type": "code",
   "execution_count": null,
   "metadata": {},
   "outputs": [],
   "source": []
  },
  {
   "cell_type": "code",
   "execution_count": null,
   "metadata": {},
   "outputs": [],
   "source": []
  },
  {
   "cell_type": "code",
   "execution_count": null,
   "metadata": {},
   "outputs": [],
   "source": []
  },
  {
   "cell_type": "code",
   "execution_count": null,
   "metadata": {},
   "outputs": [],
   "source": []
  },
  {
   "cell_type": "code",
   "execution_count": null,
   "metadata": {},
   "outputs": [],
   "source": []
  },
  {
   "cell_type": "code",
   "execution_count": null,
   "metadata": {},
   "outputs": [],
   "source": []
  },
  {
   "cell_type": "markdown",
   "metadata": {},
   "source": [
    "## feedparser"
   ]
  },
  {
   "cell_type": "markdown",
   "metadata": {},
   "source": [
    "https://pythonhosted.org/feedparser/index.html"
   ]
  },
  {
   "cell_type": "code",
   "execution_count": 18,
   "metadata": {},
   "outputs": [],
   "source": [
    "import feedparser"
   ]
  },
  {
   "cell_type": "code",
   "execution_count": 19,
   "metadata": {},
   "outputs": [],
   "source": [
    "# Подключение к каналу\n",
    "# https://news.yandex.ru/export.html\n",
    "# https://news.yandex.ru/finances.rss\n",
    "# https://news.yandex.ru/business.rss\n",
    "# https://news.yandex.ru/politics.rss\n",
    "d = feedparser.parse('https://news.yandex.ru/business.rss')\n",
    "# Теперь d это обычный словарь"
   ]
  },
  {
   "cell_type": "code",
   "execution_count": 20,
   "metadata": {},
   "outputs": [
    {
     "name": "stdout",
     "output_type": "stream",
     "text": [
      "Яндекс.Новости: Экономика\n",
      "https://news.yandex.ru/business.html?from=rss\n",
      "Первая в России служба автоматической обработки и систематизации новостей. Сообщения ведущих российских и мировых СМИ. Обновление в режиме реального времени 24 часа в сутки.\n"
     ]
    }
   ],
   "source": [
    "# Получение информации о канале\n",
    "print(d['feed']['title'])\n",
    "print(d.feed.link)\n",
    "print(d.feed.description)"
   ]
  },
  {
   "cell_type": "code",
   "execution_count": 21,
   "metadata": {},
   "outputs": [
    {
     "name": "stdout",
     "output_type": "stream",
     "text": [
      "Сбербанк зафиксировал снижение количества клиентов в офисах\n",
      "https://news.yandex.ru/story/Sberbank_zafiksiroval_snizhenie_kolichestva_klientov_v_ofisakh--0417ef6c2413eb3c7aa72d1725bd16c7?lang=ru&from=rss&stid=l3QMObv3vdSr\n",
      "Сбербанк зафиксировал снижение доли клиентов, посещающих физические офисы, с одновременным ростом общей клиентской базы. Об этом журналистам заявил глава банка Герман Греф.\n",
      "11 Dec 2018 11:55:59 +0000\n",
      "time.struct_time(tm_year=2018, tm_mon=12, tm_mday=11, tm_hour=11, tm_min=55, tm_sec=59, tm_wday=1, tm_yday=345, tm_isdst=0)\n",
      "https://news.yandex.ru/story/Sberbank_zafiksiroval_snizhenie_kolichestva_klientov_v_ofisakh--0417ef6c2413eb3c7aa72d1725bd16c7?lang=ru&from=rss&stid=l3QMObv3vdSr\n"
     ]
    }
   ],
   "source": [
    "# Получение новостей\n",
    "print(d.entries[0].title)\n",
    "print(d.entries[0].link)\n",
    "print(d.entries[0].description)\n",
    "print(d.entries[0].published)\n",
    "print(d.entries[0].published_parsed)\n",
    "print(d.entries[0].id)"
   ]
  },
  {
   "cell_type": "code",
   "execution_count": 28,
   "metadata": {},
   "outputs": [
    {
     "data": {
      "text/plain": [
       "datetime.datetime(2018, 12, 11, 11, 55, 59)"
      ]
     },
     "execution_count": 28,
     "metadata": {},
     "output_type": "execute_result"
    }
   ],
   "source": [
    "from datetime import datetime\n",
    "\n",
    "date = d.entries[0].published_parsed\n",
    "datetime(date.tm_year, date.tm_mon, date.tm_mday, date.tm_hour, date.tm_min, date.tm_sec)"
   ]
  },
  {
   "cell_type": "code",
   "execution_count": 36,
   "metadata": {},
   "outputs": [
    {
     "name": "stdout",
     "output_type": "stream",
     "text": [
      "True\n",
      "Яндекс.Новости: Экономика\n",
      "60\n"
     ]
    }
   ],
   "source": [
    "# Проверка существования элемента\n",
    "print('title' in d.feed)\n",
    "print(d.feed.get('title', 'No title'))\n",
    "print(d.feed.get('ttl', 60))"
   ]
  },
  {
   "cell_type": "code",
   "execution_count": 11,
   "metadata": {},
   "outputs": [
    {
     "name": "stdout",
     "output_type": "stream",
     "text": [
      "https://news.yandex.ru/story/Kompaniya_milliardera_Klyachina_kupila_proizvoditelya_syrkov_Druzhba--037195138dac87a46fc25f394497b8e0?lang=ru&from=rss&stid=7FmuL31-XY3OhqxDeW1U\n",
      "https://news.yandex.ru/story/TGK-2_planiruet_prodat_dolyu_v_KHuadyan-Teninskoj_TEHC--64b4e7c4108db555d16f19aa4c4d8437?lang=ru&from=rss&stid=2yg0O8ccyRyI\n",
      "https://news.yandex.ru/story/V_Podmoskove_podeshevela_arenda_domov_na_novogodnie_prazdniki--e162d3fb2e510964a77618fe50a2eccb?lang=ru&from=rss&stid=O_axtzjobLZR1Xs0dRuJ\n",
      "https://news.yandex.ru/story/Rossijskij_fondovyj_rynok_nachal_nedelyu_snizheniem_indeksov--558ebfd874e1456b9d84afea15220087?lang=ru&from=rss&stid=oDBaEtuRajnM5ovioeen\n",
      "https://news.yandex.ru/story/Gosduma_prinyala_zakon_o_povyshenii_MROT_na_117_rublej--f81f2381d6dddff47d7d55bb05540c54?lang=ru&from=rss&stid=Qv0YM5jMYcUsFQ5goHfq\n",
      "https://news.yandex.ru/story/Rossiyane_uvleklis_kreditami_na_chernyj_den--c8a441adb9fe9c6be27bc58993760170?lang=ru&from=rss&stid=oQC-YPxcBIWG2rMbacG5\n",
      "https://news.yandex.ru/story/Dollar_snova_volatilen--44574e8881c82b20a78d45ac5d6b7655?lang=ru&from=rss&stid=_RTAsDF3md4h\n",
      "https://news.yandex.ru/story/FT_soobshhila_o_peregovorakh_po_prodazhe_Alfa-banka--63a72b0abad661dadf3c60216e95ac2b?lang=ru&from=rss&stid=UxRWXro434s7CfKs5i2q\n",
      "https://news.yandex.ru/story/Rajffajzenbank_nashel_sposob_vzimat_shtrafy_za_prosrochku_po_kreditu--986f38f7fcdb114544771f408f1fa40f?lang=ru&from=rss&stid=YUabAvWDK4uToq_vHGVL\n",
      "https://news.yandex.ru/story/Inflyaciya_v_Venesuehle_v_godovom_ischislenii_priblizilas_k_1_300_000--b10c6dea659896da41ff3ee1e9389e3c?lang=ru&from=rss&stid=h9o_RMOZ-MCukTCkWkGC\n",
      "https://news.yandex.ru/story/Novye_schetchiki_na_gaz_v_kvartirakh_obojdutsya_primerno_v_130_mlrd_rublej--2980629de950cd817036ebd1dc7f8e18?lang=ru&from=rss&stid=dDu-ItH1keFbBVjZH1eD\n",
      "https://news.yandex.ru/story/Rossiya_snizit_dobychu_nefti_v_yanvare_minimum_na_50_000_barrelej_v_sutki--e2d3f202f3c5ae791b1e725cf4b4d246?lang=ru&from=rss&stid=qAyti5tNy7Oh7gxOISEr\n",
      "https://news.yandex.ru/story/Rossijskij_servis_InDriver_zarabotal_v_Brazilii_i_EHkvadore--d4467ddc6d454f5bf79530324c9ec8b2?lang=ru&from=rss&stid=ALAgYmxH\n",
      "https://news.yandex.ru/story/EHksperty_Roskachestva_proveryat_toplivo_na_AZS--dec193ec646d993f31fccd30f18e167c?lang=ru&from=rss&stid=_hWzBiW8xc8WbFtrZDXl\n",
      "https://news.yandex.ru/story/Sozdanie_ehnergokolca_v_Severo-Vostochnoj_Azii_obojdetsya_v_$76_mlrd--7eb504806f504ca0b6a3089b9b22b8de?lang=ru&from=rss&stid=O5Lql6xX5NpUdpnSEa8_\n",
      "https://news.yandex.ru/story/Medvedev_zapretil_prodavat_Boyaryshnik_deshevle_vodki--4821dfd7d4ee73a115a4608170eb0591?lang=ru&from=rss&stid=YkScCi8Ry6rbo_Ps7BTM\n",
      "https://news.yandex.ru/story/Vo_Francii_podschitali_vo_skolko_obojdutsya_ehkonomicheskie_mery_Makrona--f69eafec020c2cbfb99164d7d83edbcc?lang=ru&from=rss&stid=jyq0FAtHOZaMZYr23AqQ\n"
     ]
    }
   ],
   "source": [
    "news = feedparser.parse('https://news.yandex.ru/business.rss')\n",
    "for n in news.entries:\n",
    "    print(n.link)"
   ]
  },
  {
   "cell_type": "markdown",
   "metadata": {},
   "source": [
    "## asyncio"
   ]
  },
  {
   "cell_type": "markdown",
   "metadata": {},
   "source": [
    "https://docs.python.org/3/library/asyncio.html\n",
    "\n",
    "https://proglib.io/p/python-asyncio/\n",
    "\n",
    "https://habr.com/post/337420/\n"
   ]
  },
  {
   "cell_type": "code",
   "execution_count": null,
   "metadata": {},
   "outputs": [],
   "source": []
  },
  {
   "cell_type": "code",
   "execution_count": null,
   "metadata": {},
   "outputs": [],
   "source": []
  },
  {
   "cell_type": "code",
   "execution_count": null,
   "metadata": {},
   "outputs": [],
   "source": []
  },
  {
   "cell_type": "code",
   "execution_count": 16,
   "metadata": {},
   "outputs": [],
   "source": [
    "q = ['1', '2', '3']"
   ]
  },
  {
   "cell_type": "code",
   "execution_count": 17,
   "metadata": {},
   "outputs": [
    {
     "data": {
      "text/plain": [
       "['2', '3']"
      ]
     },
     "execution_count": 17,
     "metadata": {},
     "output_type": "execute_result"
    }
   ],
   "source": [
    "q.remove('1')\n",
    "q"
   ]
  },
  {
   "cell_type": "code",
   "execution_count": null,
   "metadata": {},
   "outputs": [],
   "source": []
  },
  {
   "cell_type": "code",
   "execution_count": 43,
   "metadata": {},
   "outputs": [],
   "source": [
    "example = {'id1':{'L11': 11,\n",
    "                  'L12': 12,\n",
    "                  'L13': 13,\n",
    "                 },\n",
    "           'id2':{'L21': 21,\n",
    "                  'L22': 22,\n",
    "                  'L23': 23,\n",
    "                 }\n",
    "          }"
   ]
  },
  {
   "cell_type": "code",
   "execution_count": 38,
   "metadata": {},
   "outputs": [
    {
     "data": {
      "text/plain": [
       "False"
      ]
     },
     "execution_count": 38,
     "metadata": {},
     "output_type": "execute_result"
    }
   ],
   "source": [
    "not 'id1' in example"
   ]
  },
  {
   "cell_type": "code",
   "execution_count": 47,
   "metadata": {},
   "outputs": [
    {
     "data": {
      "text/plain": [
       "{'id2': {'L21': 21, 'L22': 22, 'L23': 23}}"
      ]
     },
     "execution_count": 47,
     "metadata": {},
     "output_type": "execute_result"
    }
   ],
   "source": [
    "example"
   ]
  },
  {
   "cell_type": "code",
   "execution_count": null,
   "metadata": {},
   "outputs": [],
   "source": []
  },
  {
   "cell_type": "code",
   "execution_count": null,
   "metadata": {},
   "outputs": [],
   "source": []
  },
  {
   "cell_type": "code",
   "execution_count": null,
   "metadata": {},
   "outputs": [],
   "source": []
  },
  {
   "cell_type": "code",
   "execution_count": null,
   "metadata": {},
   "outputs": [],
   "source": []
  },
  {
   "cell_type": "code",
   "execution_count": null,
   "metadata": {},
   "outputs": [],
   "source": []
  },
  {
   "cell_type": "code",
   "execution_count": null,
   "metadata": {},
   "outputs": [],
   "source": []
  },
  {
   "cell_type": "code",
   "execution_count": null,
   "metadata": {},
   "outputs": [],
   "source": []
  },
  {
   "cell_type": "code",
   "execution_count": null,
   "metadata": {},
   "outputs": [],
   "source": []
  },
  {
   "cell_type": "code",
   "execution_count": null,
   "metadata": {},
   "outputs": [],
   "source": []
  },
  {
   "cell_type": "code",
   "execution_count": null,
   "metadata": {},
   "outputs": [],
   "source": []
  }
 ],
 "metadata": {
  "kernelspec": {
   "display_name": "Python 3",
   "language": "python",
   "name": "python3"
  },
  "language_info": {
   "codemirror_mode": {
    "name": "ipython",
    "version": 3
   },
   "file_extension": ".py",
   "mimetype": "text/x-python",
   "name": "python",
   "nbconvert_exporter": "python",
   "pygments_lexer": "ipython3",
   "version": "3.7.0"
  }
 },
 "nbformat": 4,
 "nbformat_minor": 2
}
